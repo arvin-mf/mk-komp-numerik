{
 "cells": [
  {
   "cell_type": "code",
   "execution_count": 2,
   "metadata": {},
   "outputs": [],
   "source": [
    "def show_equalities(n, mtrx):\n",
    "    print(\"\\nDaftar persamaan:\")\n",
    "    for baris in mtrx:\n",
    "        if abs(baris[0]) != 1:\n",
    "            print(f'{baris[0]:.0f}', end=\"\")\n",
    "        if baris[0] == -1:\n",
    "            print(\"-\", end=\"\")\n",
    "        print(\"x1\", end=\"\")\n",
    "        for i in range(1, n):\n",
    "            if baris[i] == 0:\n",
    "                continue\n",
    "            if baris[i] < 0:\n",
    "                print(\" - \", end=\"\")\n",
    "            else:\n",
    "                print(\" + \", end=\"\")\n",
    "            if abs(baris[i]) != 1:\n",
    "                print(f'{abs(baris[i]):.0f}', end=\"\")\n",
    "            print(f'x{i + 1}', end=\"\")\n",
    "        print(\" = \", end=\"\")\n",
    "        print(baris[n])"
   ]
  },
  {
   "cell_type": "code",
   "execution_count": 3,
   "metadata": {},
   "outputs": [],
   "source": [
    "def show_matrice(n, mtrx):\n",
    "    print(\"\\n-- Matriks Hasil dengan Upper Triangle Berdiagonal '1' --\")\n",
    "    for row in mtrx:\n",
    "        print(\"   [   \", end=\"\")\n",
    "        i = 0\n",
    "        for i in range(n):\n",
    "            print(f'{row[i]:.3f}\\t', end=\"\")\n",
    "        print(f'| {row[i + 1]:.3f}   ]')\n",
    "    print()"
   ]
  },
  {
   "cell_type": "code",
   "execution_count": 4,
   "metadata": {},
   "outputs": [],
   "source": [
    "def gauss_elim(n, mtrx):\n",
    "    result = [row[:] for row in mtrx]\n",
    "    for i in range(n):\n",
    "        pivot = result[i][i]\n",
    "        for j in range(n + 1):\n",
    "            result[i][j] = result[i][j]/pivot\n",
    "        for j in range(i + 1, n):\n",
    "            faktor = result[j][i]\n",
    "            for k in range(n + 1):\n",
    "                result[j][k] = result[j][k] - faktor*result[i][k]\n",
    "\n",
    "    show_matrice(n, result)\n",
    "\n",
    "    x = (n + 1) * [0]\n",
    "    for i in range(n, 0, -1):\n",
    "        term_sum = 0\n",
    "        for j in range(0, n - i):\n",
    "            term_sum += result[i - 1][n - j - 1] * x[n - j]\n",
    "        x[i] = result[i - 1][n] - term_sum\n",
    "    \n",
    "    for i in range(1, n + 1):\n",
    "        print(f'x{i} = {x[i]}')\n"
   ]
  },
  {
   "cell_type": "code",
   "execution_count": 54,
   "metadata": {},
   "outputs": [],
   "source": [
    "seederNum = 5\n",
    "seederEqu = [\n",
    "    [1, -2, 1, -1, -3, 1],\n",
    "    [3, 4, -2, -2, 1, 1],\n",
    "    [-2, 1, 3, 2, -1, -6],\n",
    "    [-1, 2, 4, -3, 3, -4],\n",
    "    [2, 3, -1, 2, -2, 4]\n",
    "]"
   ]
  },
  {
   "cell_type": "code",
   "execution_count": 55,
   "metadata": {},
   "outputs": [
    {
     "name": "stdout",
     "output_type": "stream",
     "text": [
      "\n",
      "Daftar persamaan:\n",
      "x1 - 2x2 + x3 - x4 - 3x5 = 1\n",
      "3x1 + 4x2 - 2x3 - 2x4 + x5 = 1\n",
      "-2x1 + x2 + 3x3 + 2x4 - x5 = -6\n",
      "-x1 + 2x2 + 4x3 - 3x4 + 3x5 = -4\n",
      "2x1 + 3x2 - x3 + 2x4 - 2x5 = 4\n",
      "\n",
      "-- Matriks Hasil dengan Upper Triangle Berdiagonal '1' --\n",
      "   [   1.000\t-2.000\t1.000\t-1.000\t-3.000\t| 1.000   ]\n",
      "   [   0.000\t1.000\t-0.500\t0.100\t1.000\t| -0.200   ]\n",
      "   [   0.000\t0.000\t1.000\t0.086\t-1.143\t| -1.314   ]\n",
      "   [   -0.000\t-0.000\t-0.000\t1.000\t-1.290\t| -0.806   ]\n",
      "   [   0.000\t0.000\t0.000\t0.000\t1.000\t| 3.767   ]\n",
      "\n",
      "x1 = 7.610909090909094\n",
      "x2 = -3.050909090909092\n",
      "x3 = 2.6436363636363653\n",
      "x4 = 4.054545454545456\n",
      "x5 = 3.767272727272729\n"
     ]
    }
   ],
   "source": [
    "show_equalities(seederNum, seederEqu)\n",
    "\n",
    "gauss_elim(seederNum, seederEqu)"
   ]
  }
 ],
 "metadata": {
  "kernelspec": {
   "display_name": "Python 3",
   "language": "python",
   "name": "python3"
  },
  "language_info": {
   "codemirror_mode": {
    "name": "ipython",
    "version": 3
   },
   "file_extension": ".py",
   "mimetype": "text/x-python",
   "name": "python",
   "nbconvert_exporter": "python",
   "pygments_lexer": "ipython3",
   "version": "3.11.4"
  }
 },
 "nbformat": 4,
 "nbformat_minor": 2
}
