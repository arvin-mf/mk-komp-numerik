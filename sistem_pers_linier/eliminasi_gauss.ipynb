{
 "cells": [
  {
   "cell_type": "code",
   "execution_count": 191,
   "metadata": {},
   "outputs": [],
   "source": [
    "def show_equalities(n, mtrx):\n",
    "    print(\"\\nDaftar persamaan:\")\n",
    "    for baris in mtrx:\n",
    "        if abs(baris[0]) != 1:\n",
    "            print(f'{baris[0]:.0f}', end=\"\")\n",
    "        if baris[0] == -1:\n",
    "            print(\"-\", end=\"\")\n",
    "        print(\"x1\", end=\"\")\n",
    "        for i in range(1, n):\n",
    "            if baris[i] == 0:\n",
    "                continue\n",
    "            if baris[i] < 0:\n",
    "                print(\" - \", end=\"\")\n",
    "            else:\n",
    "                print(\" + \", end=\"\")\n",
    "            if abs(baris[i]) != 1:\n",
    "                print(f'{abs(baris[i]):.0f}', end=\"\")\n",
    "            print(f'x{i + 1}', end=\"\")\n",
    "        print(\" = \", end=\"\")\n",
    "        print(baris[n])"
   ]
  },
  {
   "cell_type": "code",
   "execution_count": 165,
   "metadata": {},
   "outputs": [],
   "source": [
    "def show_matrice(n, mtrx):\n",
    "    print(\"\\n-- Matriks Hasil dengan Upper Triangle Berdiagonal '1' --\")\n",
    "    for row in mtrx:\n",
    "        print(\"   [   \", end=\"\")\n",
    "        i = 0\n",
    "        for i in range(n):\n",
    "            print(f'{row[i]:.3f}\\t', end=\"\")\n",
    "        print(f'| {row[i + 1]:.3f}   ]')\n",
    "    print()"
   ]
  },
  {
   "cell_type": "code",
   "execution_count": 166,
   "metadata": {},
   "outputs": [],
   "source": [
    "def gauss_elim(n, mtrx):\n",
    "    result = [row[:] for row in mtrx]\n",
    "    for i in range(n):\n",
    "        pivot = result[i][i]\n",
    "        for j in range(n + 1):\n",
    "            result[i][j] = result[i][j]/pivot\n",
    "        for j in range(i + 1, n):\n",
    "            faktor = result[j][i]\n",
    "            for k in range(n + 1):\n",
    "                result[j][k] = result[j][k] - faktor*result[i][k]\n",
    "\n",
    "    show_matrice(n, result)\n",
    "\n",
    "    x = (n + 1) * [0]\n",
    "    for i in range(n, 0, -1):\n",
    "        term_sum = 0\n",
    "        for j in range(0, n - i):\n",
    "            term_sum += result[i - 1][n - j - 1] * x[n - j]\n",
    "        x[i] = result[i - 1][n] - term_sum\n",
    "    \n",
    "    for i in range(1, n + 1):\n",
    "        print(f'x{i} = {x[i]}')\n"
   ]
  },
  {
   "cell_type": "code",
   "execution_count": null,
   "metadata": {},
   "outputs": [],
   "source": [
    "size = int(input(\"Masukkan jumlah variabel!\"))\n",
    "\n",
    "persamaans = []\n",
    "for i in range(1, size + 1):\n",
    "    print(f'Masukkan {size} koefisien untuk persamaan ke-{i} beserta 1 konstanta ruas kanannya!')\n",
    "    input_str = input().split()\n",
    "    persamaan = list(map(float, input_str))\n",
    "    persamaans.append(persamaan)\n",
    "\n",
    "show_equalities(size, persamaans)\n",
    "\n",
    "gauss_elim(size, persamaans)"
   ]
  }
 ],
 "metadata": {
  "kernelspec": {
   "display_name": "Python 3",
   "language": "python",
   "name": "python3"
  },
  "language_info": {
   "codemirror_mode": {
    "name": "ipython",
    "version": 3
   },
   "file_extension": ".py",
   "mimetype": "text/x-python",
   "name": "python",
   "nbconvert_exporter": "python",
   "pygments_lexer": "ipython3",
   "version": "3.11.4"
  }
 },
 "nbformat": 4,
 "nbformat_minor": 2
}
