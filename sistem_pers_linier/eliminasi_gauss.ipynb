{
 "cells": [
  {
   "cell_type": "code",
   "execution_count": 86,
   "metadata": {},
   "outputs": [],
   "source": [
    "def gauss_elim(n, mtrx):\n",
    "    # menampilkan daftar persamaan\n",
    "    for baris in mtrx:\n",
    "        print(f'{baris[0]:.0f}x{1}', end=\"\")\n",
    "        for i in range(1, n):\n",
    "            if baris[i] < 0:\n",
    "                print(\" - \", end=\"\")\n",
    "            else:\n",
    "                print(\" + \", end=\"\")\n",
    "            print(f'{abs(baris[i]):.0f}x{i + 1}', end=\"\")\n",
    "        print(\" = \", end=\"\")\n",
    "        print(baris[n])\n",
    "\n",
    "    # perhitungan\n",
    "    result = [row[:] for row in mtrx]\n",
    "    for i in range(n):\n",
    "        pivot = result[i][i]\n",
    "        for j in range(n + 1):\n",
    "            result[i][j] = result[i][j]/pivot\n",
    "        for j in range(i + 1, n):\n",
    "            faktor = result[j][i]\n",
    "            for k in range(n + 1):\n",
    "                result[j][k] = result[j][k] - faktor*result[i][k]\n",
    "\n",
    "    print(result)\n",
    "\n"
   ]
  },
  {
   "cell_type": "code",
   "execution_count": null,
   "metadata": {},
   "outputs": [],
   "source": [
    "size = int(input(\"Masukkan jumlah variabel!\"))\n",
    "\n",
    "persamaans = []\n",
    "for i in range(1, size + 1):\n",
    "    print(f'Masukkan {size} koefisien untuk persamaan ke-{i} beserta 1 konstanta ruas kanannya!')\n",
    "    input_str = input().split()\n",
    "    persamaan = list(map(float, input_str))\n",
    "    persamaans.append(persamaan)\n",
    "\n",
    "gauss_elim(size, persamaans)"
   ]
  }
 ],
 "metadata": {
  "kernelspec": {
   "display_name": "Python 3",
   "language": "python",
   "name": "python3"
  },
  "language_info": {
   "codemirror_mode": {
    "name": "ipython",
    "version": 3
   },
   "file_extension": ".py",
   "mimetype": "text/x-python",
   "name": "python",
   "nbconvert_exporter": "python",
   "pygments_lexer": "ipython3",
   "version": "3.11.4"
  }
 },
 "nbformat": 4,
 "nbformat_minor": 2
}
