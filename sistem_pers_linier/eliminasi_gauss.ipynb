{
 "cells": [
  {
   "cell_type": "code",
   "execution_count": 11,
   "metadata": {},
   "outputs": [],
   "source": [
    "def show_equalities(n, mtrx):\n",
    "    print(\"\\nDaftar persamaan:\")\n",
    "    for baris in mtrx:\n",
    "        if abs(baris[0]) != 1:\n",
    "            print(f'{baris[0]:.0f}', end=\"\")\n",
    "        if baris[0] == -1:\n",
    "            print(\"-\", end=\"\")\n",
    "        print(\"x1\", end=\"\")\n",
    "        for i in range(1, n):\n",
    "            if baris[i] == 0:\n",
    "                continue\n",
    "            if baris[i] < 0:\n",
    "                print(\" - \", end=\"\")\n",
    "            else:\n",
    "                print(\" + \", end=\"\")\n",
    "            if abs(baris[i]) != 1:\n",
    "                print(f'{abs(baris[i]):.0f}', end=\"\")\n",
    "            print(f'x{i + 1}', end=\"\")\n",
    "        print(\" = \", end=\"\")\n",
    "        print(baris[n])"
   ]
  },
  {
   "cell_type": "code",
   "execution_count": 12,
   "metadata": {},
   "outputs": [],
   "source": [
    "def show_matrice(n, mtrx):\n",
    "    print(\"\\n-- Matriks Hasil dengan Upper Triangle Berdiagonal '1' --\")\n",
    "    for row in mtrx:\n",
    "        print(\"   [   \", end=\"\")\n",
    "        i = 0\n",
    "        for i in range(n):\n",
    "            print(f'{row[i]:.3f}\\t', end=\"\")\n",
    "        print(f'| {row[i + 1]:.3f}   ]')\n",
    "    print()"
   ]
  },
  {
   "cell_type": "code",
   "execution_count": 13,
   "metadata": {},
   "outputs": [],
   "source": [
    "def gauss_elim(n, mtrx):\n",
    "    result = [row[:] for row in mtrx]\n",
    "    for i in range(n):\n",
    "        pivot = result[i][i]\n",
    "        for j in range(n + 1):\n",
    "            result[i][j] = result[i][j]/pivot\n",
    "        for j in range(i + 1, n):\n",
    "            faktor = result[j][i]\n",
    "            for k in range(n + 1):\n",
    "                result[j][k] = result[j][k] - faktor*result[i][k]\n",
    "\n",
    "    show_matrice(n, result)\n",
    "\n",
    "    x = (n + 1) * [0]\n",
    "    for i in range(n, 0, -1):\n",
    "        term_sum = 0\n",
    "        for j in range(0, n - i):\n",
    "            term_sum += result[i - 1][n - j - 1] * x[n - j]\n",
    "        x[i] = result[i - 1][n] - term_sum\n",
    "    \n",
    "    for i in range(1, n + 1):\n",
    "        print(f'x{i} = {x[i]}')\n"
   ]
  },
  {
   "cell_type": "code",
   "execution_count": 15,
   "metadata": {},
   "outputs": [
    {
     "name": "stdout",
     "output_type": "stream",
     "text": [
      "Masukkan 3 koefisien untuk persamaan ke-1 beserta 1 konstanta ruas kanannya!\n",
      "Masukkan 3 koefisien untuk persamaan ke-2 beserta 1 konstanta ruas kanannya!\n",
      "Masukkan 3 koefisien untuk persamaan ke-3 beserta 1 konstanta ruas kanannya!\n",
      "\n",
      "Daftar persamaan:\n",
      "x1 + 3x2 + x3 = 10.0\n",
      "2x1 + x2 + 2x3 = 10.0\n",
      "2x1 + 2x2 + x3 = 9.0\n",
      "\n",
      "-- Matriks Hasil dengan Upper Triangle Berdiagonal '1' --\n",
      "   [   1.000\t3.000\t1.000\t| 10.000   ]\n",
      "   [   -0.000\t1.000\t-0.000\t| 2.000   ]\n",
      "   [   -0.000\t-0.000\t1.000\t| 3.000   ]\n",
      "\n",
      "x1 = 1.0\n",
      "x2 = 2.0\n",
      "x3 = 3.0\n"
     ]
    }
   ],
   "source": [
    "size = int(input(\"Masukkan jumlah variabel!\"))\n",
    "\n",
    "persamaans = []\n",
    "for i in range(1, size + 1):\n",
    "    print(f'Masukkan {size} koefisien untuk persamaan ke-{i} beserta 1 konstanta ruas kanannya!')\n",
    "    input_str = input().split()\n",
    "    persamaan = list(map(float, input_str))\n",
    "    persamaans.append(persamaan)\n",
    "\n",
    "show_equalities(size, persamaans)\n",
    "\n",
    "gauss_elim(size, persamaans)"
   ]
  }
 ],
 "metadata": {
  "kernelspec": {
   "display_name": "Python 3",
   "language": "python",
   "name": "python3"
  },
  "language_info": {
   "codemirror_mode": {
    "name": "ipython",
    "version": 3
   },
   "file_extension": ".py",
   "mimetype": "text/x-python",
   "name": "python",
   "nbconvert_exporter": "python",
   "pygments_lexer": "ipython3",
   "version": "3.11.4"
  }
 },
 "nbformat": 4,
 "nbformat_minor": 2
}
