{
 "cells": [
  {
   "cell_type": "code",
   "execution_count": 1,
   "metadata": {},
   "outputs": [],
   "source": [
    "fx = lambda x: x**3 - 30"
   ]
  },
  {
   "cell_type": "code",
   "execution_count": 8,
   "metadata": {},
   "outputs": [],
   "source": [
    "def secant(e):\n",
    "    xi_1 = float(input(\"Masukkan x0: \"))\n",
    "    xi = float(input(\"Masukkan x1: \"))\n",
    "\n",
    "    print(f'x0 = {xi_1}')\n",
    "    print(f'x1 = {xi}')\n",
    "    print(f' e = {e}')\n",
    "\n",
    "    print(\"i\\txi\\t\\tf(xi)\\t\\tx_i+1\\t\\tf(x_i+1)\\th\")\n",
    "    print(\"---\\t---\\t\\t-----\\t\\t---\\t\\t-----\\t\\t-----\")\n",
    "    i = 0\n",
    "    fxi = fx(xi)\n",
    "    fxi_1 = fx(xi_1)\n",
    "    h = fxi*(xi - xi_1)/(fxi - fxi_1)\n",
    "    while abs(h) > e:\n",
    "        print(f'{i}\\t{xi_1:.3f}\\t\\t{fxi_1:.3f}\\t\\t{xi:.3f}\\t\\t{fxi:.3f}\\t\\t{h:.6f}')\n",
    "        h = fxi*(xi - xi_1)/(fxi - fxi_1)\n",
    "        \n",
    "        xi_1 = xi\n",
    "        xi = xi - h\n",
    "        \n",
    "        fxi = fx(xi)\n",
    "        fxi_1 = fx(xi_1)\n",
    "\n",
    "        i += 1\n",
    "    print(f'Akar persamaan adalah {xi:.10f}')"
   ]
  },
  {
   "cell_type": "code",
   "execution_count": null,
   "metadata": {},
   "outputs": [],
   "source": [
    "err = float(input(\"Masukkan batas error yang diinginkan: \"))\n",
    "secant(err)"
   ]
  }
 ],
 "metadata": {
  "kernelspec": {
   "display_name": "Python 3",
   "language": "python",
   "name": "python3"
  },
  "language_info": {
   "codemirror_mode": {
    "name": "ipython",
    "version": 3
   },
   "file_extension": ".py",
   "mimetype": "text/x-python",
   "name": "python",
   "nbconvert_exporter": "python",
   "pygments_lexer": "ipython3",
   "version": "3.11.4"
  }
 },
 "nbformat": 4,
 "nbformat_minor": 2
}
