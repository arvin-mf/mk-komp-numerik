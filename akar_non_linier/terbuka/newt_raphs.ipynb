{
 "cells": [
  {
   "cell_type": "code",
   "execution_count": 4,
   "metadata": {},
   "outputs": [],
   "source": [
    "fx = lambda x: x**3 - 30\n",
    "fdx = lambda x: 3*x**2"
   ]
  },
  {
   "cell_type": "code",
   "execution_count": 12,
   "metadata": {},
   "outputs": [],
   "source": [
    "def newt_raphs(e):\n",
    "    xn = float(input(\"Masukkan x0 = \"))\n",
    "\n",
    "    print(f'x0 = {xn}')\n",
    "    print(f' e = {e}\\n')\n",
    "\n",
    "    print(\"i\\tx0\\t\\tf(x0)\")\n",
    "    print(\"---\\t---\\t\\t-----\")\n",
    "    i = 0\n",
    "    fxn = fx(xn)\n",
    "    while abs(fxn) > e:\n",
    "        fxn = fx(xn)\n",
    "        print(f'{i}\\t{xn:.3f}\\t\\t{fxn:.6f}')\n",
    "        xn = xn - fxn/fdx(xn)   # penentuan nilai x berikutnya\n",
    "        i += 1\n",
    "    print(f'Akar persamaan adalah {xn:.10f}')\n",
    "    "
   ]
  },
  {
   "cell_type": "code",
   "execution_count": 13,
   "metadata": {},
   "outputs": [
    {
     "name": "stdout",
     "output_type": "stream",
     "text": [
      "x0 = 3.0\n",
      " e = 1e-06\n",
      "\n",
      "i\tx0\t\tf(x0)\n",
      "---\t---\t\t-----\n",
      "0\t3.000\t\t-3.000000\n",
      "1\t3.111\t\t0.112483\n",
      "2\t3.107\t\t0.000140\n",
      "3\t3.107\t\t0.000000\n",
      "Akar persamaan adalah 3.1072325060\n"
     ]
    }
   ],
   "source": [
    "err = float(input(\"Masukkan batas error yang diinginkan: \"))\n",
    "newt_raphs(err)"
   ]
  }
 ],
 "metadata": {
  "kernelspec": {
   "display_name": "Python 3",
   "language": "python",
   "name": "python3"
  },
  "language_info": {
   "codemirror_mode": {
    "name": "ipython",
    "version": 3
   },
   "file_extension": ".py",
   "mimetype": "text/x-python",
   "name": "python",
   "nbconvert_exporter": "python",
   "pygments_lexer": "ipython3",
   "version": "3.11.4"
  }
 },
 "nbformat": 4,
 "nbformat_minor": 2
}
