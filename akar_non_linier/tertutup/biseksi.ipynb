{
 "cells": [
  {
   "cell_type": "code",
   "execution_count": 6,
   "metadata": {},
   "outputs": [],
   "source": [
    "fx = lambda x: x**3 - 30.0"
   ]
  },
  {
   "cell_type": "code",
   "execution_count": 7,
   "metadata": {},
   "outputs": [],
   "source": [
    "def biseksi(e):\n",
    "    a = float(input(\"Masukkan a: \"))\n",
    "    b = float(input(\"Masukkan b: \"))\n",
    "    c = a\n",
    "\n",
    "    print(f'a = {a}')\n",
    "    print(f'b = {b}')\n",
    "    print(f'e = {e}\\n')\n",
    "\n",
    "    i = 0\n",
    "    cprev = 0\n",
    "    if fx(a)*fx(b) < 0:\n",
    "        print(\"i\\ta\\t\\tb\\t\\tf(a)\\t\\tf(b)\\t\\tc\\t\\tf(c)\\t\\tf(a)-f(b)\")\n",
    "        print(\"----\\t----\\t\\t----\\t\\t----\\t\\t----\\t\\t----\\t\\t----\\t\\t----\")\n",
    "        while abs(fx(a)+fx(b)) > e:\n",
    "            c = (a + b)/2\n",
    "            if i == 0:\n",
    "                print(f'{i}\\t{a:.3f}\\t\\t{b:.3f}\\t\\t{fx(a):.3f}\\t\\t{fx(b):.3f}\\t\\t{c:.3f}\\t\\t{fx(c):.3f}\\t\\t-')\n",
    "            else:\n",
    "                print(f'{i}\\t{a:.3f}\\t\\t{b:.3f}\\t\\t{fx(a):.3f}\\t\\t{fx(b):.3f}\\t\\t{c:.3f}\\t\\t{fx(c):.3f}\\t\\t{(fx(a)-fx(b)):.7f}')\n",
    "            \n",
    "            if fx(a)*fx(c) > 0:\n",
    "                a = c\n",
    "            else:\n",
    "                b = c\n",
    "            i += 1\n",
    "        print(f'Akar persamaan adalah {c:.10f}')\n",
    "    else:\n",
    "        print(\"Tebakan awal a dan b salahj!\")\n",
    "       "
   ]
  },
  {
   "cell_type": "code",
   "execution_count": null,
   "metadata": {},
   "outputs": [],
   "source": [
    "error = float(input(\"Masukkan batas error yang diinginkan: \"))\n",
    "biseksi(error)"
   ]
  }
 ],
 "metadata": {
  "kernelspec": {
   "display_name": "Python 3",
   "language": "python",
   "name": "python3"
  },
  "language_info": {
   "codemirror_mode": {
    "name": "ipython",
    "version": 3
   },
   "file_extension": ".py",
   "mimetype": "text/x-python",
   "name": "python",
   "nbconvert_exporter": "python",
   "pygments_lexer": "ipython3",
   "version": "3.11.4"
  }
 },
 "nbformat": 4,
 "nbformat_minor": 2
}
