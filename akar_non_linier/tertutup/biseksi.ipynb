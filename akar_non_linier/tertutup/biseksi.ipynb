{
 "cells": [
  {
   "cell_type": "code",
   "execution_count": 1,
   "metadata": {},
   "outputs": [],
   "source": [
    "fx = lambda x: x**3 - 30.0"
   ]
  },
  {
   "cell_type": "code",
   "execution_count": 6,
   "metadata": {},
   "outputs": [],
   "source": [
    "def biseksi(fx):\n",
    "    a = float(input(\"Masukkan a: \"))\n",
    "    b = float(input(\"Masukkan b: \"))\n",
    "    c = a\n",
    "\n",
    "    print(\"i\\ta\\t\\tb\\t\\tf(a)\\t\\tf(b)\\t\\tc\\t\\tf(c)\\t\\tc(n)-c(n-1)\")\n",
    "    i = 0\n",
    "    cprev = 0\n",
    "    if fx(a)*fx(b) < 0:\n",
    "        while abs(fx(a)*fx(b)) > 0.000001:\n",
    "            c = (a + b)/2\n",
    "            if i == 0:\n",
    "                print(f'{i}\\t{a:.3f}\\t\\t{b:.3f}\\t\\t{fx(a):.3f}\\t\\t{fx(b):.3f}\\t\\t{c:.3f}\\t\\t{fx(c):.3f}\\t\\t-')\n",
    "            else:\n",
    "                print(f'{i}\\t{a:.3f}\\t\\t{b:.3f}\\t\\t{fx(a):.3f}\\t\\t{fx(b):.3f}\\t\\t{c:.3f}\\t\\t{fx(c):.3f}\\t\\t{(c-cprev):.7f}')\n",
    "            cprev = c\n",
    "            if fx(a)*fx(c) > 0:\n",
    "                a = c\n",
    "            else:\n",
    "                b = c\n",
    "            i += 1\n",
    "        print(f'Akar persamaan adalah {c:.3f}')\n",
    "    else:\n",
    "        print(\"Tebakan awal a dan b salahj!\")\n",
    "       "
   ]
  },
  {
   "cell_type": "code",
   "execution_count": 7,
   "metadata": {},
   "outputs": [
    {
     "name": "stdout",
     "output_type": "stream",
     "text": [
      "i\ta\t\tb\t\tf(a)\t\tf(b)\t\tc\t\tf(c)\t\tc(n)-c(n-1)\n",
      "0\t3.000\t\t4.000\t\t-3.000\t\t34.000\t\t3.500\t\t12.875\t\t-\n",
      "1\t3.000\t\t3.500\t\t-3.000\t\t12.875\t\t3.250\t\t4.328\t\t-0.2500000\n",
      "2\t3.000\t\t3.250\t\t-3.000\t\t4.328\t\t3.125\t\t0.518\t\t-0.1250000\n",
      "3\t3.000\t\t3.125\t\t-3.000\t\t0.518\t\t3.062\t\t-1.277\t\t-0.0625000\n",
      "4\t3.062\t\t3.125\t\t-1.277\t\t0.518\t\t3.094\t\t-0.389\t\t0.0312500\n",
      "5\t3.094\t\t3.125\t\t-0.389\t\t0.518\t\t3.109\t\t0.062\t\t0.0156250\n",
      "6\t3.094\t\t3.109\t\t-0.389\t\t0.062\t\t3.102\t\t-0.164\t\t-0.0078125\n",
      "7\t3.102\t\t3.109\t\t-0.164\t\t0.062\t\t3.105\t\t-0.051\t\t0.0039062\n",
      "8\t3.105\t\t3.109\t\t-0.051\t\t0.062\t\t3.107\t\t0.005\t\t0.0019531\n",
      "9\t3.105\t\t3.107\t\t-0.051\t\t0.005\t\t3.106\t\t-0.023\t\t-0.0009766\n",
      "10\t3.106\t\t3.107\t\t-0.023\t\t0.005\t\t3.107\t\t-0.009\t\t0.0004883\n",
      "11\t3.107\t\t3.107\t\t-0.009\t\t0.005\t\t3.107\t\t-0.002\t\t0.0002441\n",
      "12\t3.107\t\t3.107\t\t-0.002\t\t0.005\t\t3.107\t\t0.002\t\t0.0001221\n",
      "13\t3.107\t\t3.107\t\t-0.002\t\t0.002\t\t3.107\t\t0.000\t\t-0.0000610\n",
      "Akar persamaan adalah 3.107\n"
     ]
    }
   ],
   "source": [
    "biseksi(fx)"
   ]
  }
 ],
 "metadata": {
  "kernelspec": {
   "display_name": "Python 3",
   "language": "python",
   "name": "python3"
  },
  "language_info": {
   "codemirror_mode": {
    "name": "ipython",
    "version": 3
   },
   "file_extension": ".py",
   "mimetype": "text/x-python",
   "name": "python",
   "nbconvert_exporter": "python",
   "pygments_lexer": "ipython3",
   "version": "3.11.4"
  }
 },
 "nbformat": 4,
 "nbformat_minor": 2
}
