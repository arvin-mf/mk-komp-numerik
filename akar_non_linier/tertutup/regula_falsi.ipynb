{
 "cells": [
  {
   "cell_type": "code",
   "execution_count": 57,
   "metadata": {},
   "outputs": [],
   "source": [
    "fx = lambda x: x**3 - 30"
   ]
  },
  {
   "cell_type": "code",
   "execution_count": 58,
   "metadata": {},
   "outputs": [],
   "source": [
    "def reg_fals(e):\n",
    "    a = float(input(\"Masukkan a: \"))\n",
    "    b = float(input(\"Masukkan b: \"))\n",
    "    c = a\n",
    "\n",
    "    print(f'a = {a}')\n",
    "    print(f'b = {b}')\n",
    "    print(f'e = {e}\\n')\n",
    "\n",
    "    i = 0\n",
    "    err = 1\n",
    "    if fx(a)*fx(b) < 0.0:\n",
    "        print(\"i\\ta\\t\\tb\\t\\tf(a)\\t\\tf(b)\\t\\tc\\t\\tf(c)\\t\\terr\")\n",
    "        print(\"----\\t----\\t\\t----\\t\\t----\\t\\t----\\t\\t----\\t\\t----\\t\\t----\")\n",
    "        while err >= e and i < 100:\n",
    "            fa = fx(a)\n",
    "            fb = fx(b)\n",
    "            c = (a*fa - b*fb)/(fa - fb)\n",
    "            fc = fx(c)\n",
    "            err = abs(fc)\n",
    "            print(f'{i}\\t{a:.3f}\\t\\t{b:.3f}\\t\\t{fa:.3f}\\t\\t{fb:.3f}\\t\\t{c:.3f}\\t\\t{fc:.3f}\\t\\t{err:.7f}')\n",
    "\n",
    "            if fc*fa < 0:\n",
    "                b = c\n",
    "            else:\n",
    "                a = c\n",
    "            \n",
    "            i += 1\n",
    "        print(f'Akar persamaan adalah {c:.10f}')\n",
    "    else:\n",
    "        print(\"Tebakan awal a dan b salahj!\")"
   ]
  },
  {
   "cell_type": "code",
   "execution_count": null,
   "metadata": {},
   "outputs": [],
   "source": [
    "error = float(input(\"Masukkan batas error yang diinginkan: \"))\n",
    "reg_fals(error)"
   ]
  }
 ],
 "metadata": {
  "kernelspec": {
   "display_name": "Python 3",
   "language": "python",
   "name": "python3"
  },
  "language_info": {
   "codemirror_mode": {
    "name": "ipython",
    "version": 3
   },
   "file_extension": ".py",
   "mimetype": "text/x-python",
   "name": "python",
   "nbconvert_exporter": "python",
   "pygments_lexer": "ipython3",
   "version": "3.11.4"
  }
 },
 "nbformat": 4,
 "nbformat_minor": 2
}
